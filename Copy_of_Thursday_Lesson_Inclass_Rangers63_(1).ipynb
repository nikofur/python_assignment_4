{
  "cells": [
    {
      "cell_type": "markdown",
      "metadata": {
        "id": "qYFDK_8wBq58"
      },
      "source": [
        "# Object-Oriented-Programming (OOP)"
      ]
    },
    {
      "cell_type": "markdown",
      "metadata": {
        "id": "UG8f9OHYBq6B"
      },
      "source": [
        "## Tasks Today:\n",
        "\n",
        "   \n",
        "\n",
        "1) <b>Creating a Class (Initializing/Declaring)</b> <br>\n",
        "2) <b>Using a Class (Instantiating)</b> <br>\n",
        " &nbsp;&nbsp;&nbsp;&nbsp; a) Creating One Instance <br>\n",
        " &nbsp;&nbsp;&nbsp;&nbsp; b) Creating Multiple Instances <br>\n",
        " &nbsp;&nbsp;&nbsp;&nbsp; c) In-Class Exercise #1 - Create a Class 'Car' and instantiate three different makes of cars <br>\n",
        "3) <b>The \\__init\\__() Method</b> <br>\n",
        " &nbsp;&nbsp;&nbsp;&nbsp; a) The 'self' Attribute <br>\n",
        "4) <b>Class Attributes</b> <br>\n",
        " &nbsp;&nbsp;&nbsp;&nbsp; a) Initializing Attributes <br>\n",
        " &nbsp;&nbsp;&nbsp;&nbsp; b) Setting an Attribute Outside of the \\__init\\__() Method <br>\n",
        " &nbsp;&nbsp;&nbsp;&nbsp; c) Setting Defaults for Attributes <br>\n",
        " &nbsp;&nbsp;&nbsp;&nbsp; d) Accessing Class Attributes <br>\n",
        " &nbsp;&nbsp;&nbsp;&nbsp; e) Changing Class Attributes <br>\n",
        " &nbsp;&nbsp;&nbsp;&nbsp; f) In-Class Exercise #2 - Add a color and wheels attribute to your 'Car' class <br>\n",
        "5) <b>Class Methods</b> <br>\n",
        " &nbsp;&nbsp;&nbsp;&nbsp; a) Creating <br>\n",
        " &nbsp;&nbsp;&nbsp;&nbsp; b) Calling <br>\n",
        " &nbsp;&nbsp;&nbsp;&nbsp; c) Modifying an Attribute's Value Through a Method <br>\n",
        " &nbsp;&nbsp;&nbsp;&nbsp; d) Incrementing an Attribute's Value Through a Method <br>\n",
        " &nbsp;&nbsp;&nbsp;&nbsp; e) In-Class Exercise #3 - Add a method that prints the cars color and wheel number, then call them <br>\n",
        "6) <b>Inheritance</b> <br>\n",
        " &nbsp;&nbsp;&nbsp;&nbsp; a) Syntax for Inheriting from a Parent Class <br>\n",
        " &nbsp;&nbsp;&nbsp;&nbsp; b) The \\__init\\__() Method for a Child Class (super()) <br>\n",
        " &nbsp;&nbsp;&nbsp;&nbsp; c) Defining Attributes and Methods for the Child Class <br>\n",
        " &nbsp;&nbsp;&nbsp;&nbsp; d) Method Overriding <br>\n",
        " &nbsp;&nbsp;&nbsp;&nbsp; e) In-Class Exercise #4 - Create a class 'Ford' that inherits from 'Car' class and initialize it as a Blue Ford Explorer with 4 wheels using the super() method <br>\n",
        "7) <b>Classes as Attributes</b> <br>\n",
        "8) <b>Exercises</b> <br>\n",
        " &nbsp;&nbsp;&nbsp;&nbsp; a) Exercise #1 - Turn the shopping cart program from yesterday into an object-oriented program <br>"
      ]
    },
    {
      "cell_type": "markdown",
      "metadata": {
        "id": "1ulb5kcbBq6D"
      },
      "source": [
        "## Creating a Class (Initializing/Declaring)\n",
        "<p>When creating a class, function, or even a variable you are initializing that object. Initializing and Declaring occur at the same time in Python, whereas in lower level languages you have to declare an object before initializing it. This is the first step in the process of using a class.</p>"
      ]
    },
    {
      "cell_type": "code",
      "execution_count": null,
      "metadata": {
        "id": "PUz1olqEBq6E"
      },
      "outputs": [],
      "source": [
        "class Car():\n",
        "    wheels = 4\n",
        "    color = 'blue'"
      ]
    },
    {
      "cell_type": "markdown",
      "metadata": {
        "id": "0uKlxUbFBq6F"
      },
      "source": [
        "## Using a Class (Instantiating)\n",
        "<p>The process of creating a class is called <i>Instantiating</i>. Each time you create a variable of that type of class, it is referred to as an <i>Instance</i> of that class. This is the second step in the process of using a class.</p>"
      ]
    },
    {
      "cell_type": "markdown",
      "metadata": {
        "id": "cLsdjgLEBq6G"
      },
      "source": [
        "##### Creating One Instance"
      ]
    },
    {
      "cell_type": "code",
      "execution_count": null,
      "metadata": {
        "id": "lKFIelvZBq6H"
      },
      "outputs": [],
      "source": [
        "ford = Car()"
      ]
    },
    {
      "cell_type": "markdown",
      "metadata": {
        "id": "I5uxfyKbBq6H"
      },
      "source": [
        "##### Creating Multiple Instances"
      ]
    },
    {
      "cell_type": "code",
      "execution_count": null,
      "metadata": {
        "id": "0hrRKYNMBq6I"
      },
      "outputs": [],
      "source": [
        "chevy = car()\n",
        "honda = car()\n",
        "porsche = car()"
      ]
    },
    {
      "cell_type": "markdown",
      "metadata": {
        "id": "lw0BLWccBq6J"
      },
      "source": [
        "##### In-Class Exercise #1 - Create a Class 'Car' and Instantiate three different makes of cars"
      ]
    },
    {
      "cell_type": "code",
      "execution_count": null,
      "metadata": {
        "id": "aO_9apYNBq6J",
        "outputId": "a1bcc13f-fbd9-4e56-ea30-ca36348b3e3e",
        "colab": {
          "base_uri": "https://localhost:8080/"
        }
      },
      "outputs": [
        {
          "output_type": "stream",
          "name": "stdout",
          "text": [
            "True\n"
          ]
        }
      ],
      "source": [
        "class Car():\n",
        "  wheels = 4\n",
        "  color = 'silver'\n",
        "  sunroof = True\n",
        "  cylinders = 6\n",
        "\n",
        "toyota = Car()\n",
        "lexus = Car()\n",
        "genesis = Car()\n",
        "\n",
        "print(genesis.sunroof)\n"
      ]
    },
    {
      "cell_type": "markdown",
      "metadata": {
        "id": "cY1n04ebBq6J"
      },
      "source": [
        "## The \\__init\\__() Method <br>\n",
        "<p>This method is used in almost every created class, and called only once upon the creation of the class instance. This method will initialize all variables needed for the object.</p>"
      ]
    },
    {
      "cell_type": "code",
      "execution_count": null,
      "metadata": {
        "id": "iL38PtR-Bq6K",
        "outputId": "229d0db7-3090-47c7-9fd0-04095ff1d5e4",
        "colab": {
          "base_uri": "https://localhost:8080/"
        }
      },
      "outputs": [
        {
          "output_type": "stream",
          "name": "stdout",
          "text": [
            "4\n",
            "6\n"
          ]
        }
      ],
      "source": [
        "class Car():\n",
        "  engine = '4.7L' #constant attribute\n",
        "\n",
        "  def __init__(self, wheels, color):\n",
        "    self.wheels = wheels\n",
        "    self.color = color\n",
        "\n",
        "ford = Car(4, 'red')\n",
        "chevy = Car(6, 'black')\n",
        "\n",
        "print(ford.wheels)\n",
        "print(chevy.wheels)"
      ]
    },
    {
      "cell_type": "markdown",
      "metadata": {
        "id": "eVYbVCveBq6K"
      },
      "source": [
        "##### The 'self' Attribute <br>\n",
        "<p>This attribute is required to keep track of specific instance's attributes. Without the self attribute, the program would not know how to reference or keep track of an instance's attributes.</p>"
      ]
    },
    {
      "cell_type": "code",
      "execution_count": null,
      "metadata": {
        "id": "jsBOHYGoBq6K"
      },
      "outputs": [],
      "source": [
        "# see above"
      ]
    },
    {
      "cell_type": "markdown",
      "metadata": {
        "id": "Izx_Tk0aBq6L"
      },
      "source": [
        "## Class Attributes <br>\n",
        "<p>While variables are inside of a class, they are referred to as attributes and not variables. When someone says 'attribute' you know they're speaking about a class. Attributes can be initialized through the init method, or outside of it.</p>"
      ]
    },
    {
      "cell_type": "markdown",
      "metadata": {
        "id": "Z_anM2m7Bq6L"
      },
      "source": [
        "##### Initializing Attributes"
      ]
    },
    {
      "cell_type": "code",
      "execution_count": null,
      "metadata": {
        "id": "fj0mIeL0Bq6L"
      },
      "outputs": [],
      "source": [
        "class Toy():\n",
        "  kind = 'car'\n",
        "\n",
        "  def __init__(self, rooftop, horn, wheels = 4):\n",
        "    self.rooftop = rooftop\n",
        "    self.horn = horn\n",
        "    self.wheels = wheels\n",
        "\n",
        "tonka_truck = Toy(1,1)\n",
        "hotwheels_car = Toy(2,3,8)"
      ]
    },
    {
      "cell_type": "markdown",
      "metadata": {
        "id": "2keC92NOBq6L"
      },
      "source": [
        "##### Accessing Class Attributes"
      ]
    },
    {
      "cell_type": "code",
      "execution_count": null,
      "metadata": {
        "scrolled": true,
        "id": "v3oEFltkBq6M",
        "outputId": "eeb7a089-7768-4b97-f1e6-ed93b10110f6",
        "colab": {
          "base_uri": "https://localhost:8080/"
        }
      },
      "outputs": [
        {
          "output_type": "stream",
          "name": "stdout",
          "text": [
            "1\n",
            "8\n"
          ]
        }
      ],
      "source": [
        "# See Above\n",
        "print(tonka_truck.horn)\n",
        "print(hotwheels_car.wheels)\n"
      ]
    },
    {
      "cell_type": "markdown",
      "metadata": {
        "id": "75BoknmUBq6M"
      },
      "source": [
        "##### Setting Defaults for Attributes"
      ]
    },
    {
      "cell_type": "code",
      "execution_count": null,
      "metadata": {
        "id": "BbHH9SSeBq6M"
      },
      "outputs": [],
      "source": []
    },
    {
      "cell_type": "markdown",
      "metadata": {
        "id": "Z0deeC9LBq6M"
      },
      "source": [
        "##### Changing Class Attributes <br>\n",
        "<p>Keep in mind there are global class attributes and then there are attributes only available to each class instance which won't effect other classes.</p>"
      ]
    },
    {
      "cell_type": "code",
      "execution_count": null,
      "metadata": {
        "id": "47CsYISuBq6M"
      },
      "outputs": [],
      "source": []
    },
    {
      "cell_type": "code",
      "execution_count": null,
      "metadata": {
        "id": "uhNSv4boBq6N"
      },
      "outputs": [],
      "source": []
    },
    {
      "cell_type": "markdown",
      "metadata": {
        "id": "Irx9rnkNBq6N"
      },
      "source": [
        "##### In-Class Exercise #2 - Add a doors and seats attribute to your 'Car' class then print out two different instances with different doors and seats"
      ]
    },
    {
      "cell_type": "code",
      "execution_count": null,
      "metadata": {
        "id": "gAwZvRfQBq6N",
        "outputId": "54cbe09b-4d24-4071-d445-0d41efba5b44",
        "colab": {
          "base_uri": "https://localhost:8080/"
        }
      },
      "outputs": [
        {
          "output_type": "stream",
          "name": "stdout",
          "text": [
            "Toyota:\n",
            "\tDoors:  4 \n",
            "\tSeats:  5\n",
            "Lexus:\n",
            "\tDoors:  2 \n",
            "\tSeats:  4\n"
          ]
        }
      ],
      "source": [
        "class Car():\n",
        "  def __init__(self, wheels, color, sunroof, cylinders, doors, seats):\n",
        "    self.wheels = wheels\n",
        "    self.color = color\n",
        "    self.sunroof = sunroof\n",
        "    self.cylinders = cylinders\n",
        "    self.doors = doors\n",
        "    self.seats = seats\n",
        "    \n",
        "toyota = Car(4, 'True', True, 6, 4, 5)\n",
        "lexus = Car(4, 'black', False, 6, 2, 4)\n",
        "\n",
        "print(\"Toyota:\\n\\tDoors: \", toyota.doors, \"\\n\\tSeats: \", toyota.seats)\n",
        "print(\"Lexus:\\n\\tDoors: \", lexus.doors, \"\\n\\tSeats: \", lexus.seats)"
      ]
    },
    {
      "cell_type": "markdown",
      "metadata": {
        "id": "crmKPlVqBq6N"
      },
      "source": [
        "## Class Methods <br>\n",
        "<p>While inside of a class, functions are referred to as 'methods'. If you hear someone mention methods, they're speaking about classes. Methods are essentially functions, but only callable on the instances of a class.</p>"
      ]
    },
    {
      "cell_type": "markdown",
      "metadata": {
        "id": "-hd72QJsBq6N"
      },
      "source": [
        "##### Creating"
      ]
    },
    {
      "cell_type": "code",
      "execution_count": null,
      "metadata": {
        "id": "yphfQ4aEBq6O"
      },
      "outputs": [],
      "source": [
        "class ShoppingBag():\n",
        "\n",
        "  '''\n",
        "    The shoppingBag class will have handles, capacity, \n",
        "    and items to place inside.\n",
        "\n",
        "    Attributes for the class:\n",
        "     - handles: expected to be an integer\n",
        "     - items: expected to be a list\n",
        "     - capacity: expected to be an integer\n",
        "  '''\n",
        "\n",
        "  def __init__(self, handles, items = [], capacity = 10):\n",
        "    self.handles = handles\n",
        "    self.items = items\n",
        "    self.capacity = capacity\n",
        "\n",
        "  def showShoppingBag(self):\n",
        "    if len(self.items) == 0:\n",
        "      print(\"You have no items.\")\n",
        "    else:\n",
        "      print(\"You have items in your bag!!!\")\n",
        "      for item in self.items:\n",
        "        print(item)\n",
        "      \n",
        "\n",
        "  def showCapacity(self):\n",
        "\n",
        "    print(f'Your remaining capacity is : {self.capacity - len(self.items)}') #NEED TO FIX!!!\n",
        "\n",
        "  def addToShoppingBag(self):\n",
        "    if len(self.items) == self.capacity:\n",
        "      print(\"You have no room\")\n",
        "    else:\n",
        "      product = input(\"What would you like to add: \")\n",
        "      self.items.append(product)\n",
        "\n",
        "  def showHandles(self):\n",
        "    print(f'You have {self.handles} handles on your bag')"
      ]
    },
    {
      "cell_type": "markdown",
      "metadata": {
        "id": "vPEnBjpPBq6O"
      },
      "source": [
        "##### Calling"
      ]
    },
    {
      "cell_type": "code",
      "execution_count": null,
      "metadata": {
        "id": "mxw6E6xNBq6O",
        "outputId": "113b8d8c-0093-4ab2-9dcc-9e595104e434",
        "colab": {
          "base_uri": "https://localhost:8080/"
        }
      },
      "outputs": [
        {
          "output_type": "stream",
          "name": "stdout",
          "text": [
            "What would you like to do?\n",
            "\n",
            "You may:\n",
            "- Add\n",
            "- Show\n",
            "- Quit \n",
            "add\n",
            "What would you like to add: potatos\n",
            "What would you like to do?\n",
            "\n",
            "You may:\n",
            "- Add\n",
            "- Show\n",
            "- Quit \n",
            "add\n",
            "What would you like to add: milk\n",
            "What would you like to do?\n",
            "\n",
            "You may:\n",
            "- Add\n",
            "- Show\n",
            "- Quit \n",
            "add\n",
            "What would you like to add: cheese\n",
            "What would you like to do?\n",
            "\n",
            "You may:\n",
            "- Add\n",
            "- Show\n",
            "- Quit \n",
            "show\n",
            "What would you like to see: \n",
            "- Capacity\n",
            "- Handles\n",
            "- Shopping Bag\n",
            "shopping bag\n",
            "You have items in your bag!!!\n",
            "potatos\n",
            "milk\n",
            "cheese\n",
            "What would you like to do?\n",
            "\n",
            "You may:\n",
            "- Add\n",
            "- Show\n",
            "- Quit \n",
            "capacity\n",
            "That is not a valid option.  Please enter add, show, or quit\n",
            "What would you like to do?\n",
            "\n",
            "You may:\n",
            "- Add\n",
            "- Show\n",
            "- Quit \n",
            "show\n",
            "What would you like to see: \n",
            "- Capacity\n",
            "- Handles\n",
            "- Shopping Bag\n",
            "capacity\n",
            "Your remaining capacity is : 7\n",
            "What would you like to do?\n",
            "\n",
            "You may:\n",
            "- Add\n",
            "- Show\n",
            "- Quit \n",
            "quit\n",
            "You have items in your bag!!!\n",
            "potatos\n",
            "milk\n",
            "cheese\n",
            "Thanks for shopping!\n"
          ]
        }
      ],
      "source": [
        "# See Above\n",
        "wholeFoodsBag = ShoppingBag(2)\n",
        "\n",
        "def run():\n",
        "  while True:\n",
        "    response = input(\"What would you like to do?\\n\\nYou may:\\n- Add\\n- Show\\n- Quit \\n\")\n",
        "\n",
        "    if response.lower() == 'quit':\n",
        "      wholeFoodsBag.showShoppingBag()\n",
        "      print(\"Thanks for shopping!\")\n",
        "      break\n",
        "    elif response.lower() == 'add':\n",
        "      wholeFoodsBag.addToShoppingBag()\n",
        "    elif response.lower() == 'show':\n",
        "      showChoice = input(\"What would you like to see: \\n- Capacity\\n- Handles\\n- Shopping Bag\\n\")\n",
        "      if showChoice.lower() == 'capacity':\n",
        "        wholeFoodsBag.showCapacity()\n",
        "      elif showChoice.lower() == 'handles':\n",
        "        wholeFoodsBag.showHandles()\n",
        "      else:\n",
        "        wholeFoodsBag.showShoppingBag()\n",
        "    else:\n",
        "      print(\"That is not a valid option.  Please enter add, show, or quit\")\n",
        "run()"
      ]
    },
    {
      "cell_type": "markdown",
      "metadata": {
        "id": "gN8Ql9xXBq6O"
      },
      "source": [
        "##### Modifying an Attribute's Value Through a Method"
      ]
    },
    {
      "cell_type": "code",
      "execution_count": null,
      "metadata": {
        "id": "56b2ax4YBq6O"
      },
      "outputs": [],
      "source": []
    },
    {
      "cell_type": "markdown",
      "metadata": {
        "id": "akP5PsjeBq6O"
      },
      "source": [
        "##### Incrementing an Attribute's Value Through a Method"
      ]
    },
    {
      "cell_type": "code",
      "execution_count": null,
      "metadata": {
        "id": "4BTq0M3LBq6O"
      },
      "outputs": [],
      "source": []
    },
    {
      "cell_type": "markdown",
      "metadata": {
        "id": "12MmETfEBq6P"
      },
      "source": [
        "##### In-Class Exercise #3 - Add a method that takes in three parameters of year, doors and seats and prints out a formatted print statement with make, model, year, seats, and doors"
      ]
    },
    {
      "cell_type": "code",
      "execution_count": null,
      "metadata": {
        "id": "_gnj2ERsBq6P"
      },
      "outputs": [],
      "source": [
        "# Create class with 2 paramters inside of the __init__ which are make and model\n",
        "\n",
        "# Inside of the Car class create a method that has 4 parameter in total (self,year,door,seats)\n",
        "\n",
        "# Output: This car is from 2019 and is a Ford Expolorer and has 4 doors and 5 seats\n",
        "\n",
        "class Car():\n",
        "  def __init__(self, make, model):\n",
        "    self.make = make\n",
        "    self.model = model\n",
        "\n",
        "  def carMethod(self, year, doors, seats):\n",
        "    \n"
      ]
    },
    {
      "cell_type": "markdown",
      "metadata": {
        "id": "i4E-Tq2ZBq6P"
      },
      "source": [
        "## Inheritance <br>\n",
        "<p>You can create a child-parent relationship between two classes by using inheritance. What this allows you to do is have overriding methods, but also inherit traits from the parent class. Think of it as an actual parent and child, the child will inherit the parent's genes, as will the classes in OOP</p>"
      ]
    },
    {
      "cell_type": "markdown",
      "source": [],
      "metadata": {
        "id": "4-bw1KcIadv8"
      }
    },
    {
      "cell_type": "markdown",
      "metadata": {
        "id": "J-1W8dOgBq6P"
      },
      "source": [
        "##### Syntax for Inheriting from a Parent Class"
      ]
    },
    {
      "cell_type": "code",
      "execution_count": null,
      "metadata": {
        "id": "OPVofA0LBq6P"
      },
      "outputs": [],
      "source": []
    },
    {
      "cell_type": "markdown",
      "metadata": {
        "id": "kHYl2KifBq6Q"
      },
      "source": [
        "##### The \\__init\\__() Method for a Child Class - super()"
      ]
    },
    {
      "cell_type": "code",
      "execution_count": null,
      "metadata": {
        "scrolled": true,
        "id": "4zocDg1hBq6Q"
      },
      "outputs": [],
      "source": []
    },
    {
      "cell_type": "markdown",
      "metadata": {
        "id": "pHOFSqRiBq6Q"
      },
      "source": [
        "##### Defining Attributes and Methods for the Child Class"
      ]
    },
    {
      "cell_type": "code",
      "execution_count": null,
      "metadata": {
        "id": "sJGq4UBwBq6Q"
      },
      "outputs": [],
      "source": [
        "# See Above"
      ]
    },
    {
      "cell_type": "markdown",
      "metadata": {
        "id": "N3mKmCCEBq6Q"
      },
      "source": [
        "##### Method Overriding"
      ]
    },
    {
      "cell_type": "code",
      "execution_count": null,
      "metadata": {
        "id": "wLjbk_MDBq6Q"
      },
      "outputs": [],
      "source": [
        "# See Above"
      ]
    },
    {
      "cell_type": "markdown",
      "metadata": {
        "id": "XUlSzUYMBq6R"
      },
      "source": [
        "## Classes as Attributes <br>\n",
        "<p>Classes can also be used as attributes within another class. This is useful in situations where you need to keep variables locally stored, instead of globally stored.</p>"
      ]
    },
    {
      "cell_type": "code",
      "execution_count": null,
      "metadata": {
        "id": "V3jgonZwBq6R"
      },
      "outputs": [],
      "source": []
    },
    {
      "cell_type": "markdown",
      "metadata": {
        "id": "lNwS3FdGBq6R"
      },
      "source": [
        "# Exercises"
      ]
    },
    {
      "cell_type": "markdown",
      "metadata": {
        "id": "AHjojImNBq6R"
      },
      "source": [
        "### Exercise 1 - Turn the shopping cart program from yesterday into an object-oriented program\n",
        "\n",
        "The comments in the cell below are there as a guide for thinking about the problem. However, if you feel a different way is best for you and your own thought process, please do what feels best for you by all means."
      ]
    },
    {
      "cell_type": "code",
      "execution_count": null,
      "metadata": {
        "id": "pyh2ayEaBq6R",
        "colab": {
          "base_uri": "https://localhost:8080/"
        },
        "outputId": "cd0e45d5-6998-4ce5-e04c-118f08e4f776"
      },
      "outputs": [
        {
          "output_type": "stream",
          "name": "stdout",
          "text": [
            "\n",
            "Please choose an option(1-4): \n",
            "1.) Show list\n",
            "2.) Add to list\n",
            "3.) Delete from list\n",
            "4.) Finalize list\n",
            ": 2\n",
            "What would you like to buy? cheese\n",
            "\n",
            "Please choose an option(1-4): \n",
            "1.) Show list\n",
            "2.) Add to list\n",
            "3.) Delete from list\n",
            "4.) Finalize list\n",
            ": 2\n",
            "What would you like to buy? potato\n",
            "\n",
            "Please choose an option(1-4): \n",
            "1.) Show list\n",
            "2.) Add to list\n",
            "3.) Delete from list\n",
            "4.) Finalize list\n",
            ": 2\n",
            "What would you like to buy? cheese\n",
            "\n",
            "Please choose an option(1-4): \n",
            "1.) Show list\n",
            "2.) Add to list\n",
            "3.) Delete from list\n",
            "4.) Finalize list\n",
            ": 4\n",
            "\n",
            "Shopping Cart:\n",
            "cheese: 2\n",
            "potato: 1\n"
          ]
        }
      ],
      "source": [
        "# Create a class called cart that retains items and has methods to add, remove, and show\n",
        "\n",
        "class Cart():\n",
        "  def __init__(self):\n",
        "    self.inventory = {}\n",
        "\n",
        "\n",
        "  def addToCart(self, item):\n",
        "    '''\n",
        "      Method checks if item exists and adds 1 to quantity if so.  If item\n",
        "      does not already exist, item will be added to cart with a quantity of\n",
        "       1.  Does not return a value.\n",
        "    '''\n",
        "    if item in self.inventory:\n",
        "      self.inventory[item] += 1\n",
        "    else:\n",
        "      self.inventory[item] = 1\n",
        "\n",
        "\n",
        "  def showCart(self):\n",
        "    '''\n",
        "      .showCart()\n",
        "\n",
        "      Method displays contents of cart including the item and the quantity.\n",
        "      Does not return a value\n",
        "    '''\n",
        "\n",
        "    print(\"\\nShopping Cart:\")\n",
        "    for inventory_item, quantity in self.inventory.items():\n",
        "      print(f\"{inventory_item}: {quantity}\")\n",
        "    \n",
        "\n",
        "    def removeFromCart(self, item):\n",
        "      '''\n",
        "        .removeFromCart(item : string)\n",
        "\n",
        "        Method checks if item exists and deletes item from cart if so.  If item\n",
        "        does not exist, a message is displayed stating so.  Does not return\n",
        "        a value\n",
        "      '''\n",
        "      if item in self.inventory:\n",
        "        del self.inventory[item]\n",
        "      else:\n",
        "        print(f\"{item} does not exist\")\n",
        "\n",
        "\n",
        "#body\n",
        "shopping_cart = Cart()\n",
        "\n",
        "def showMenu():\n",
        "  '''\n",
        "    showMenu()\n",
        "\n",
        "    Function displays a menu for user, checks input\n",
        "    and returns an int.  Returns int 1 if input is \n",
        "    type string. Does not accept parameters.\n",
        "  '''\n",
        "  print(\"\\nPlease choose an option(1-4): \")\n",
        "  print(\"1.) Show list\")\n",
        "  print(\"2.) Add to list\")\n",
        "  print(\"3.) Delete from list\")\n",
        "  print(\"4.) Finalize list\")\n",
        "    \n",
        "  try:\n",
        "    menu_choice = int(input(\": \"))\n",
        "  except:\n",
        "    print(\"Please change your input to a number\")\n",
        "    menu_choice = 1\n",
        "    \n",
        "    return menu_choice\n",
        "\n",
        "\n",
        "choice = 1\n",
        "while choice != 4:\n",
        "  choice = showMenu()\n",
        "  if choice not in range(1,5):\n",
        "    print(\"Invalid input - please enter 1-4\\n\")\n",
        "  elif choice == 1:\n",
        "    shopping_cart.showCart()\n",
        "  elif choice == 2:\n",
        "    item_to_add = input(\"What would you like to buy? \")\n",
        "    shopping_cart.addToCart(item_to_add)\n",
        "  elif choice == 3:\n",
        "    item_to_delete = input(\"Which item would you like to remove? \")\n",
        "    shopping_cart.removeFromCart(item_to_delete)\n",
        "  elif choice == 4:\n",
        "    shopping_cart.showCart()\n",
        "\n",
        "    "
      ]
    },
    {
      "cell_type": "markdown",
      "metadata": {
        "id": "i_nkAAeLBq6S"
      },
      "source": [
        "### Exercise 2 - Write a Python class which has two methods get_String and print_String. get_String accept a string from the user and print_String print the string in upper case"
      ]
    },
    {
      "cell_type": "code",
      "execution_count": null,
      "metadata": {
        "id": "QpgnZf2eBq6S",
        "colab": {
          "base_uri": "https://localhost:8080/"
        },
        "outputId": "9d0f18d2-cc2e-4ef2-b3c9-1147c6375cea"
      },
      "outputs": [
        {
          "output_type": "stream",
          "name": "stdout",
          "text": [
            "Hello World!\n"
          ]
        }
      ],
      "source": [
        "class FunWithStrings():\n",
        "  def __init__(self):\n",
        "    self.str = \"\"\n",
        "\n",
        "  def get_string(self, user_string):\n",
        "    self.str = user_string\n",
        "\n",
        "  def print_string(self):\n",
        "    print(self.str)\n",
        "\n",
        "\n",
        "my_string = FunWithStrings()\n",
        "my_string.get_string(\"Hello World!\")\n",
        "my_string.print_string()"
      ]
    }
  ],
  "metadata": {
    "kernelspec": {
      "display_name": "Python 3",
      "language": "python",
      "name": "python3"
    },
    "language_info": {
      "codemirror_mode": {
        "name": "ipython",
        "version": 3
      },
      "file_extension": ".py",
      "mimetype": "text/x-python",
      "name": "python",
      "nbconvert_exporter": "python",
      "pygments_lexer": "ipython3",
      "version": "3.8.5"
    },
    "colab": {
      "provenance": []
    }
  },
  "nbformat": 4,
  "nbformat_minor": 0
}